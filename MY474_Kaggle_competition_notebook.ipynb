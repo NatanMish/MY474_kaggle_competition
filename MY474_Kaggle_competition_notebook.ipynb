{
 "cells": [
  {
   "cell_type": "code",
   "execution_count": 1,
   "metadata": {},
   "outputs": [],
   "source": [
    "import pandas as pd\n",
    "from tqdm import tqdm\n",
    "from sklearn.ensemble import RandomForestClassifier\n",
    "from sklearn.model_selection import train_test_split\n",
    "from sklearn.metrics import f1_score\n",
    "from xgboost import XGBClassifier\n",
    "from sklearn.linear_model import LogisticRegression\n",
    "from sklearn.preprocessing import StandardScaler\n",
    "import numpy as np\n",
    "import seaborn as sns\n",
    "from numpy import median,mean\n",
    "from sklearn.model_selection import cross_val_score\n",
    "from sklearn import metrics\n",
    "from random import randint"
   ]
  },
  {
   "cell_type": "markdown",
   "metadata": {},
   "source": [
    "## NLP Class\n",
    "This is a custom made class I made that holds all the algorithms, modules and functions I am planning to use in analyzing the text data. I chose to wrap it all in a class for reasons of convenience, scalability and ease of use."
   ]
  },
  {
   "cell_type": "code",
   "execution_count": 2,
   "metadata": {},
   "outputs": [],
   "source": [
    "class nlp:\n",
    "    #need to download from nltk - 'averaged_perceptron_tagger','wordnet','stopwords'\n",
    "    re = __import__('re')\n",
    "    pd = __import__('pandas')\n",
    "    nltk = __import__('nltk')\n",
    "    np = __import__('numpy')\n",
    "    \n",
    "    def __init__(self):\n",
    "        print('nlp V.0.1 \\nImported pandas,re,nltk,numpy packages')\n",
    "        \n",
    "    def clean_text_for_topic_modelling(self,text_column):\n",
    "        text_column=text_column.str.lower()\n",
    "        text_column = [self.re.sub(r'\\b(?:[0-9]{1,3}\\.){3}[0-9]{1,3}\\b','', x) for x in text_column]\n",
    "        text_column = [x.split() for x in text_column]\n",
    "        temp_corpus=[]\n",
    "        for tweet in text_column:\n",
    "            new_list=[w for w in tweet if len(w)>2]\n",
    "            temp_corpus.append(new_list)\n",
    "        return self.pd.Series(temp_corpus)\n",
    "    \n",
    "    def remove_stopwords_from_corpus(self,text_column,extra_stopwords_list=[]):\n",
    "        from nltk.corpus import stopwords\n",
    "        stops = set(stopwords.words('english')).union(extra_stopwords_list)\n",
    "        text_column=text_column.apply(lambda x: [w for w in x if w not in stops])\n",
    "        return text_column\n",
    "    \n",
    "    def stemm_corpus(self,text_column,stemmer='porter'):\n",
    "        if stemmer=='porter':\n",
    "            from nltk.stem import PorterStemmer\n",
    "            porter = PorterStemmer()\n",
    "            text_column=text_column.apply(lambda x:[porter.stem(w) for w in x])\n",
    "        elif stemmer=='lancaster':\n",
    "            from nltk.stem import LancasterStemmer\n",
    "            lancaster=LancasterStemmer()\n",
    "            text_column=text_column.apply(lambda x:[lancaster.stem(w) for w in x])\n",
    "        else:\n",
    "            from nltk.stem import SnowballStemmer\n",
    "            snowball=SnowballStemmer(\"english\")\n",
    "            text_column=text_column.apply(lambda x:[snowball.stem(w) for w in x])\n",
    "        return text_column\n",
    "    \n",
    "    def lemmatize_corpus(self,text_column):\n",
    "        from nltk.stem import WordNetLemmatizer\n",
    "        from nltk.corpus import wordnet\n",
    "        \n",
    "        def get_word_pos(word):\n",
    "            tag = self.nltk.pos_tag(word)[0][1][0].upper()\n",
    "            tag_dict = {\"J\": wordnet.ADJ,\n",
    "                \"N\": wordnet.NOUN,\n",
    "                \"V\": wordnet.VERB,\n",
    "                \"R\": wordnet.ADV}\n",
    "            return tag_dict.get(tag, wordnet.NOUN)\n",
    "        \n",
    "        wordnet_lemmatizer = WordNetLemmatizer()\n",
    "        text_column=text_column.apply(lambda x:[wordnet_lemmatizer.lemmatize(w, pos=get_word_pos(w)) for w in x])\n",
    "        return text_column\n",
    "    \n",
    "    def create_ngrams(self,text_column,replace=False,num_grams=2):\n",
    "        from nltk import ngrams\n",
    "        if replace:\n",
    "            grams_list=[]\n",
    "            for tweet in text_column:\n",
    "                grams_list.append([' '.join(ngram) for ngram in ngrams(tweet,num_grams)])\n",
    "            return self.pd.Series(grams_list)\n",
    "        else:\n",
    "            for i,tweet in text_column.iteritems():\n",
    "                copy_tweet=tweet.copy()\n",
    "                for ngram in ngrams(tweet,2):\n",
    "                    copy_tweet.append(' '.join(ngram))\n",
    "                text_column.at[i]=copy_tweet\n",
    "            return text_column\n",
    "        \n",
    "    def gensim_dic(self,text_column,filter_extremes=True,no_below=3,no_above=0.99):\n",
    "        from gensim.corpora import Dictionary\n",
    "        dictionary=Dictionary(text_column)\n",
    "        if filter_extremes:\n",
    "            dictionary.filter_extremes(no_below=no_below, no_above=no_above)\n",
    "        return dictionary\n",
    "    \n",
    "    def bow_corpus(self,dictionary,text_column):\n",
    "        return [dictionary.doc2bow(doc) for doc in text_column]\n",
    "    \n",
    "    def one_hot_encoding_todf(self,dictionary,text_column):\n",
    "        from tqdm import tqdm\n",
    "        columns=[dictionary.get(i) for i in range(len(dictionary))]\n",
    "        one_hot_df=pd.DataFrame(columns=columns)\n",
    "        for i,row in tqdm(enumerate(train.comment_text)):\n",
    "            for word in row:\n",
    "                one_hot_df.at[i,word]=+1\n",
    "        return one_hot_df\n",
    "    \n",
    "    def tf_idf_tomatrix(self,dictionary,tf_idf_object):\n",
    "        from gensim.matutils import corpus2dense\n",
    "        num_terms = len(dictionary.keys())\n",
    "        num_docs = dictionary.num_docs\n",
    "        corpus_tfidf_dense = corpus2dense(tf_idf_object, num_terms, num_docs)\n",
    "        return self.pd.DataFrame(self.np.transpose(corpus_tfidf_dense))\n",
    "        \n",
    "    def vec_to_tfidf(self,bow_corpus):\n",
    "        from gensim import models\n",
    "        tfidf = models.TfidfModel(bow_corpus)\n",
    "        return tfidf[bow_corpus]\n",
    "    \n",
    "    def lda_model(self,tfidf_corp,dic,num_topics=20,passes=30,alpha=0.001,eta='auto'):\n",
    "        from gensim import models\n",
    "        return models.ldamodel.LdaModel(corpus=tfidf_corp, num_topics=num_topics, id2word=dic, passes=passes, alpha=alpha, \n",
    "                                             eta=eta,random_state=13)\n",
    "    \n",
    "    def get_coherence(self,lda_model,corpus,dic):\n",
    "        from gensim.models import CoherenceModel\n",
    "        coherence_model_lda = CoherenceModel(model=lda_model, texts=corpus, dictionary=dic, coherence='c_v')\n",
    "        return coherence_model_lda.get_coherence()\n",
    "    \n",
    "    def assign_lda_topic(self,lda_model,bow_corpus):\n",
    "        topics=[]\n",
    "        data=lda_model.get_document_topics(bow_corpus)\n",
    "        for tweet in data:  \n",
    "            df = self.pd.DataFrame(tweet, columns=['topic_num', 'probability'])\n",
    "            topics.append(df.loc[df['probability'].idxmax(), 'topic_num'])\n",
    "        return (self.pd.Series(topics))\n",
    "    \n",
    "    def get_sentiment(self,text_column):\n",
    "        from textblob import TextBlob\n",
    "        return text_column.apply(lambda x: TextBlob(' '.join(x)).sentiment.polarity)\n",
    "    \n",
    "    def get_length_of_comment(self,text_column):\n",
    "        return text_column.apply(lambda x: len(x))\n",
    "    \n",
    "    def amount_of_upper(self,text_column):\n",
    "        return text_column.apply(lambda x: sum(1 for c in x if c.isupper()))\n",
    "    \n",
    "    def create_uppercase_max_sequence_column(self,text_column):\n",
    "        def get_max_uppercase_run_from_string(s):\n",
    "            lengths=[len(x) for x in self.re.findall(r\"[A-Z]+\", s)]\n",
    "            if len(lengths)>0:\n",
    "                return max(lengths)\n",
    "            else:\n",
    "                return 0\n",
    "        return (text_column.apply(lambda x: get_max_uppercase_run_from_string(x)))\n",
    "    \n",
    "    def amount_of_sign(self,text_column,sign):\n",
    "        return text_column.apply(lambda x: sum(1 for c in x if c==sign))\n",
    "    \n",
    "    def max_sequence(self,text_column,symbol):\n",
    "        def get_max_sequence_run_from_string(s,symbol):\n",
    "            lengths=[len(x) for x in self.re.findall(r\"[\"+symbol+\"]+\", s)]\n",
    "            if len(lengths)>0:\n",
    "                return max(lengths)\n",
    "            else:\n",
    "                return 0   \n",
    "        return text_column.apply(lambda x: get_max_sequence_run_from_string(x,symbol))\n",
    "    \n",
    "    def remove_punctuation(self,text_column):\n",
    "        import string\n",
    "        return text_column.apply(lambda x: x.translate(str.maketrans('', '', string.punctuation)))\n",
    "    \n",
    "    def bad_comments_column_bin(self,text_column,bad_words_list):\n",
    "        def is_comment_bad(comment,bad_words_list):\n",
    "            for word in comment:\n",
    "                if word in bad_words_list:\n",
    "                    return 1\n",
    "            return 0\n",
    "        return text_column.apply(lambda x: is_comment_bad(x,bad_words_list))\n",
    "\n",
    "    def bad_comments_column_agg(self,text_column,bad_words_list):\n",
    "        def amount_comment_bad_words(comment,bad_words_list):\n",
    "            count_of_bad_words=0\n",
    "            for word in comment:\n",
    "                if word in bad_words_list:\n",
    "                    count_of_bad_words=count_of_bad_words+1\n",
    "            return count_of_bad_words\n",
    "        return text_column.apply(lambda x: amount_comment_bad_words(x,bad_words_list))"
   ]
  },
  {
   "cell_type": "markdown",
   "metadata": {},
   "source": [
    "## Preparing the dataset\n",
    "Load data and replace \\n skip row sign with whitespace"
   ]
  },
  {
   "cell_type": "code",
   "execution_count": 3,
   "metadata": {},
   "outputs": [],
   "source": [
    "train=pd.read_csv('train.csv')\n",
    "test=pd.read_csv('test.csv')\n",
    "train=train.replace('\\n',' ')\n",
    "test=test.replace('\\n',' ')"
   ]
  },
  {
   "cell_type": "markdown",
   "metadata": {},
   "source": [
    "1.\tCreate class object nlp that holds all the NLP algorithms and methods.\n",
    "2.\tCreate empty dataframe X that will hold all of the features.\n",
    "3.\tSeperate the two target variables from the training dataframe."
   ]
  },
  {
   "cell_type": "code",
   "execution_count": 4,
   "metadata": {},
   "outputs": [
    {
     "name": "stdout",
     "output_type": "stream",
     "text": [
      "nlp V.0.1 \n",
      "Imported pandas,re,nltk,numpy packages\n"
     ]
    }
   ],
   "source": [
    "nlp=nlp()\n",
    "X=pd.DataFrame()\n",
    "y_toxic=train['toxic'].copy()\n",
    "y_obscene=train['obscene'].copy()"
   ]
  },
  {
   "cell_type": "markdown",
   "metadata": {},
   "source": [
    "Create text corpus from train and test set together. All the relevant NLP methods will be done on both sets. In the end I'll seperate them again for training the model and creating predictions."
   ]
  },
  {
   "cell_type": "code",
   "execution_count": 5,
   "metadata": {},
   "outputs": [],
   "source": [
    "train_test_text=train.comment_text.append(test.comment_text,ignore_index=True)"
   ]
  },
  {
   "cell_type": "markdown",
   "metadata": {},
   "source": [
    "# Exploratory Data Analysis and Feature Selection\n",
    "## Comment length\n",
    "By inspecting the length of comments grouped by the target variables groups we can see that it looks like toxic and obscene comments are usually shorter."
   ]
  },
  {
   "cell_type": "code",
   "execution_count": 6,
   "metadata": {},
   "outputs": [
    {
     "name": "stderr",
     "output_type": "stream",
     "text": [
      "C:\\Users\\natan\\Anaconda3\\lib\\site-packages\\scipy\\stats\\stats.py:1713: FutureWarning: Using a non-tuple sequence for multidimensional indexing is deprecated; use `arr[tuple(seq)]` instead of `arr[seq]`. In the future this will be interpreted as an array index, `arr[np.array(seq)]`, which will result either in an error or a different result.\n",
      "  return np.add.reduce(sorted[indexer] * weights, axis=axis) / sumval\n"
     ]
    },
    {
     "data": {
      "text/plain": [
       "<matplotlib.axes._subplots.AxesSubplot at 0x2caafa8ec18>"
      ]
     },
     "execution_count": 6,
     "metadata": {},
     "output_type": "execute_result"
    },
    {
     "data": {
      "image/png": "[encoded data removed]",
      "text/plain": [
       "<Figure size 432x288 with 1 Axes>"
      ]
     },
     "metadata": {
      "needs_background": "light"
     },
     "output_type": "display_data"
    }
   ],
   "source": [
    "X['length']=nlp.get_length_of_comment(train_test_text)\n",
    "inspect=pd.DataFrame(X['length']).iloc[:10000].join(y_toxic).join(y_obscene)\n",
    "sns.distplot(inspect.loc[inspect['toxic']==1,'length'],color=\"r\").set_title('Comment length distribution by toxicity')\n",
    "sns.distplot(inspect.loc[inspect['toxic']==0,'length'])"
   ]
  },
  {
   "cell_type": "code",
   "execution_count": 7,
   "metadata": {},
   "outputs": [
    {
     "data": {
      "text/plain": [
       "<matplotlib.axes._subplots.AxesSubplot at 0x2cab0380358>"
      ]
     },
     "execution_count": 7,
     "metadata": {},
     "output_type": "execute_result"
    },
    {
     "data": {
      "image/png": "[encoded data removed]",
      "text/plain": [
       "<Figure size 432x288 with 1 Axes>"
      ]
     },
     "metadata": {
      "needs_background": "light"
     },
     "output_type": "display_data"
    }
   ],
   "source": [
    "sns.distplot(inspect.loc[inspect['obscene']==1,'length'],color=\"r\").set_title('Comment length distribution by obscenity')\n",
    "sns.distplot(inspect.loc[inspect['obscene']==0,'length'])"
   ]
  },
  {
   "cell_type": "markdown",
   "metadata": {},
   "source": [
    "## Amount of upper case letters\n",
    "Inspecting the median upper case letters amount we can see that toxic and obscene comments have less upper case letters. I chose the median estimator to make the estimation more robust to outliers."
   ]
  },
  {
   "cell_type": "code",
   "execution_count": 8,
   "metadata": {},
   "outputs": [
    {
     "data": {
      "text/plain": [
       "Text(0.5, 1.0, 'Comment amount of upper case letters by toxicity')"
      ]
     },
     "execution_count": 8,
     "metadata": {},
     "output_type": "execute_result"
    },
    {
     "data": {
      "image/png": "[encoded data removed]",
      "text/plain": [
       "<Figure size 432x288 with 1 Axes>"
      ]
     },
     "metadata": {
      "needs_background": "light"
     },
     "output_type": "display_data"
    }
   ],
   "source": [
    "X['amount_upper']=nlp.amount_of_upper(train_test_text)\n",
    "inspect=pd.DataFrame(X['amount_upper']).iloc[:10000].join(y_toxic).join(y_obscene)\n",
    "sns.barplot(x=\"toxic\", y=\"amount_upper\", data=inspect, estimator=median).set_title('Comment amount of upper case letters by toxicity')"
   ]
  },
  {
   "cell_type": "code",
   "execution_count": 9,
   "metadata": {},
   "outputs": [
    {
     "data": {
      "text/plain": [
       "Text(0.5, 1.0, 'Comment amount of upper case letters by obscenity')"
      ]
     },
     "execution_count": 9,
     "metadata": {},
     "output_type": "execute_result"
    },
    {
     "data": {
      "image/png": "[encoded data removed]",
      "text/plain": [
       "<Figure size 432x288 with 1 Axes>"
      ]
     },
     "metadata": {
      "needs_background": "light"
     },
     "output_type": "display_data"
    }
   ],
   "source": [
    "sns.barplot(x=\"obscene\", y=\"amount_upper\", data=inspect, estimator=median).set_title('Comment amount of upper case letters by obscenity')"
   ]
  },
  {
   "cell_type": "markdown",
   "metadata": {},
   "source": [
    "## Maximum sequence of upper case letters\n",
    "We can see that for both toxicity and obscenity, the average maximum sequence of upper case letters is higher."
   ]
  },
  {
   "cell_type": "code",
   "execution_count": 10,
   "metadata": {},
   "outputs": [
    {
     "data": {
      "text/plain": [
       "Text(0.5, 1.0, 'Comment max upper case letters sequence by toxicity')"
      ]
     },
     "execution_count": 10,
     "metadata": {},
     "output_type": "execute_result"
    },
    {
     "data": {
      "image/png": "[encoded data removed]",
      "text/plain": [
       "<Figure size 432x288 with 1 Axes>"
      ]
     },
     "metadata": {
      "needs_background": "light"
     },
     "output_type": "display_data"
    }
   ],
   "source": [
    "X['max_upper']=nlp.create_uppercase_max_sequence_column(train_test_text)\n",
    "inspect=pd.DataFrame(X['max_upper']).iloc[:10000].join(y_toxic).join(y_obscene)\n",
    "sns.barplot(x=\"toxic\", y=\"max_upper\", data=inspect, estimator=mean).set_title('Comment max upper case letters sequence by toxicity')"
   ]
  },
  {
   "cell_type": "code",
   "execution_count": 11,
   "metadata": {},
   "outputs": [
    {
     "data": {
      "text/plain": [
       "Text(0.5, 1.0, 'Comment max upper case letters sequence by obscenity')"
      ]
     },
     "execution_count": 11,
     "metadata": {},
     "output_type": "execute_result"
    },
    {
     "data": {
      "image/png": "[encoded data removed]",
      "text/plain": [
       "<Figure size 432x288 with 1 Axes>"
      ]
     },
     "metadata": {
      "needs_background": "light"
     },
     "output_type": "display_data"
    }
   ],
   "source": [
    "sns.barplot(x=\"obscene\", y=\"max_upper\", data=inspect, estimator=mean).set_title('Comment max upper case letters sequence by obscenity')"
   ]
  },
  {
   "cell_type": "markdown",
   "metadata": {},
   "source": [
    "## Comment sentiment\n",
    "Toxic and obscene comments tend to have less positive sentiment score"
   ]
  },
  {
   "cell_type": "code",
   "execution_count": 12,
   "metadata": {},
   "outputs": [
    {
     "data": {
      "text/plain": [
       "Text(0.5, 1.0, 'Comment average sentiment by toxicity')"
      ]
     },
     "execution_count": 12,
     "metadata": {},
     "output_type": "execute_result"
    },
    {
     "data": {
      "image/png": "[encoded data removed]",
      "text/plain": [
       "<Figure size 432x288 with 1 Axes>"
      ]
     },
     "metadata": {
      "needs_background": "light"
     },
     "output_type": "display_data"
    }
   ],
   "source": [
    "X['sentiment']=nlp.get_sentiment(train_test_text)\n",
    "inspect=pd.DataFrame(X['sentiment']).iloc[:10000].join(y_toxic).join(y_obscene)\n",
    "sns.barplot(x=\"toxic\", y=\"sentiment\", data=inspect, estimator=mean).set_title('Comment average sentiment by toxicity')"
   ]
  },
  {
   "cell_type": "code",
   "execution_count": 13,
   "metadata": {},
   "outputs": [
    {
     "data": {
      "text/plain": [
       "Text(0.5, 1.0, 'Comment average sentiment by obscenity')"
      ]
     },
     "execution_count": 13,
     "metadata": {},
     "output_type": "execute_result"
    },
    {
     "data": {
      "image/png": "[encoded data removed]",
      "text/plain": [
       "<Figure size 432x288 with 1 Axes>"
      ]
     },
     "metadata": {
      "needs_background": "light"
     },
     "output_type": "display_data"
    }
   ],
   "source": [
    "sns.barplot(x=\"obscene\", y=\"sentiment\", data=inspect, estimator=mean).set_title('Comment average sentiment by obscenity')"
   ]
  },
  {
   "cell_type": "markdown",
   "metadata": {},
   "source": [
    "## Comment amount of question marks\n",
    "Toxic comments have more question marks. Obscene comments don't have more question marks than non-obscene comments."
   ]
  },
  {
   "cell_type": "code",
   "execution_count": 14,
   "metadata": {},
   "outputs": [
    {
     "data": {
      "text/plain": [
       "Text(0.5, 1.0, 'Comment amount of question marks by toxicity')"
      ]
     },
     "execution_count": 14,
     "metadata": {},
     "output_type": "execute_result"
    },
    {
     "data": {
      "image/png": "[encoded data removed]",
      "text/plain": [
       "<Figure size 432x288 with 1 Axes>"
      ]
     },
     "metadata": {
      "needs_background": "light"
     },
     "output_type": "display_data"
    }
   ],
   "source": [
    "X['amount_question_marks']=nlp.amount_of_sign(train_test_text,'?')\n",
    "inspect=pd.DataFrame(X['amount_question_marks']).iloc[:10000].join(y_toxic).join(y_obscene)\n",
    "sns.barplot(x=\"toxic\", y=\"amount_question_marks\", data=inspect, estimator=mean).set_title('Comment amount of question marks by toxicity')"
   ]
  },
  {
   "cell_type": "code",
   "execution_count": 15,
   "metadata": {},
   "outputs": [
    {
     "data": {
      "text/plain": [
       "Text(0.5, 1.0, 'Comment amount of question marks by obscenity')"
      ]
     },
     "execution_count": 15,
     "metadata": {},
     "output_type": "execute_result"
    },
    {
     "data": {
      "image/png": "[encoded data removed]",
      "text/plain": [
       "<Figure size 432x288 with 1 Axes>"
      ]
     },
     "metadata": {
      "needs_background": "light"
     },
     "output_type": "display_data"
    }
   ],
   "source": [
    "sns.barplot(x=\"obscene\", y=\"amount_question_marks\", data=inspect, estimator=mean).set_title('Comment amount of question marks by obscenity')"
   ]
  },
  {
   "cell_type": "markdown",
   "metadata": {},
   "source": [
    "## Comment maximal question marks sequence\n",
    "This feature's average values are different for toxic/non-toxic comments but for obscene/not-obscene the average values are similar."
   ]
  },
  {
   "cell_type": "code",
   "execution_count": 16,
   "metadata": {},
   "outputs": [
    {
     "data": {
      "text/plain": [
       "Text(0.5, 1.0, 'Comment average maximal question marks sequence by toxicity')"
      ]
     },
     "execution_count": 16,
     "metadata": {},
     "output_type": "execute_result"
    },
    {
     "data": {
      "image/png": "[encoded data removed]",
      "text/plain": [
       "<Figure size 432x288 with 1 Axes>"
      ]
     },
     "metadata": {
      "needs_background": "light"
     },
     "output_type": "display_data"
    }
   ],
   "source": [
    "X['max_seq_question_marks']=nlp.max_sequence(train_test_text,'?')\n",
    "inspect=pd.DataFrame(X['max_seq_question_marks']).iloc[:10000].join(y_toxic).join(y_obscene)\n",
    "sns.barplot(x=\"toxic\", y=\"max_seq_question_marks\", data=inspect, estimator=mean).set_title('Comment average maximal question marks sequence by toxicity')"
   ]
  },
  {
   "cell_type": "code",
   "execution_count": 17,
   "metadata": {},
   "outputs": [
    {
     "data": {
      "text/plain": [
       "Text(0.5, 1.0, 'Comment average maximal question marks sequence by obscenity')"
      ]
     },
     "execution_count": 17,
     "metadata": {},
     "output_type": "execute_result"
    },
    {
     "data": {
      "image/png": "[encoded data removed]",
      "text/plain": [
       "<Figure size 432x288 with 1 Axes>"
      ]
     },
     "metadata": {
      "needs_background": "light"
     },
     "output_type": "display_data"
    }
   ],
   "source": [
    "sns.barplot(x=\"obscene\", y=\"max_seq_question_marks\", data=inspect, estimator=mean).set_title('Comment average maximal question marks sequence by obscenity')"
   ]
  },
  {
   "cell_type": "markdown",
   "metadata": {},
   "source": [
    "## Comment amount of exclamations\n",
    "We can see that for both toxic and obscene comments, the amount of exclamations is much bigger."
   ]
  },
  {
   "cell_type": "code",
   "execution_count": 18,
   "metadata": {},
   "outputs": [
    {
     "data": {
      "text/plain": [
       "Text(0.5, 1.0, 'Comment amount of exclamations by toxicity')"
      ]
     },
     "execution_count": 18,
     "metadata": {},
     "output_type": "execute_result"
    },
    {
     "data": {
      "image/png": "[encoded data removed]",
      "text/plain": [
       "<Figure size 432x288 with 1 Axes>"
      ]
     },
     "metadata": {
      "needs_background": "light"
     },
     "output_type": "display_data"
    }
   ],
   "source": [
    "X['amount_exclamations']=nlp.amount_of_sign(train_test_text,'!')\n",
    "inspect=pd.DataFrame(X['amount_exclamations']).iloc[:10000].join(y_toxic).join(y_obscene)\n",
    "sns.barplot(x=\"toxic\", y=\"amount_exclamations\", data=inspect, estimator=mean).set_title('Comment amount of exclamations by toxicity')"
   ]
  },
  {
   "cell_type": "code",
   "execution_count": 19,
   "metadata": {},
   "outputs": [
    {
     "data": {
      "text/plain": [
       "Text(0.5, 1.0, 'Comment amount of exclamations by obscenity')"
      ]
     },
     "execution_count": 19,
     "metadata": {},
     "output_type": "execute_result"
    },
    {
     "data": {
      "image/png": "[encoded data removed]",
      "text/plain": [
       "<Figure size 432x288 with 1 Axes>"
      ]
     },
     "metadata": {
      "needs_background": "light"
     },
     "output_type": "display_data"
    }
   ],
   "source": [
    "sns.barplot(x=\"obscene\", y=\"amount_exclamations\", data=inspect, estimator=mean).set_title('Comment amount of exclamations by obscenity')"
   ]
  },
  {
   "cell_type": "markdown",
   "metadata": {},
   "source": [
    "## Comment maximal sequence of exclamations\n",
    "It is clear to see that for toxic and obscene comments the maximal sequence of exclamations is higher."
   ]
  },
  {
   "cell_type": "code",
   "execution_count": 20,
   "metadata": {},
   "outputs": [
    {
     "data": {
      "text/plain": [
       "Text(0.5, 1.0, 'Comment average maximal exclamations sequence by toxicity')"
      ]
     },
     "execution_count": 20,
     "metadata": {},
     "output_type": "execute_result"
    },
    {
     "data": {
      "image/png": "[encoded data removed]",
      "text/plain": [
       "<Figure size 432x288 with 1 Axes>"
      ]
     },
     "metadata": {
      "needs_background": "light"
     },
     "output_type": "display_data"
    }
   ],
   "source": [
    "X['max_seq_exclamations']=nlp.max_sequence(train_test_text,'!')\n",
    "inspect=pd.DataFrame(X['max_seq_exclamations']).iloc[:10000].join(y_toxic).join(y_obscene)\n",
    "sns.barplot(x=\"toxic\", y=\"max_seq_exclamations\", data=inspect, estimator=mean).set_title('Comment average maximal exclamations sequence by toxicity')"
   ]
  },
  {
   "cell_type": "code",
   "execution_count": 21,
   "metadata": {},
   "outputs": [
    {
     "data": {
      "text/plain": [
       "Text(0.5, 1.0, 'Comment average maximal exclamations sequence by obscenity')"
      ]
     },
     "execution_count": 21,
     "metadata": {},
     "output_type": "execute_result"
    },
    {
     "data": {
      "image/png": "[encoded data removed]",
      "text/plain": [
       "<Figure size 432x288 with 1 Axes>"
      ]
     },
     "metadata": {
      "needs_background": "light"
     },
     "output_type": "display_data"
    }
   ],
   "source": [
    "sns.barplot(x=\"obscene\", y=\"max_seq_exclamations\", data=inspect, estimator=mean).set_title('Comment average maximal exclamations sequence by obscenity')"
   ]
  },
  {
   "cell_type": "markdown",
   "metadata": {},
   "source": [
    "## Comment amount of *\n",
    "For both toxic and obscene comments, the average amount of stars is higher."
   ]
  },
  {
   "cell_type": "code",
   "execution_count": 22,
   "metadata": {},
   "outputs": [
    {
     "data": {
      "text/plain": [
       "Text(0.5, 1.0, 'Comment amount of * by toxicity')"
      ]
     },
     "execution_count": 22,
     "metadata": {},
     "output_type": "execute_result"
    },
    {
     "data": {
      "image/png": "[encoded data removed]",
      "text/plain": [
       "<Figure size 432x288 with 1 Axes>"
      ]
     },
     "metadata": {
      "needs_background": "light"
     },
     "output_type": "display_data"
    }
   ],
   "source": [
    "X['amount_stars']=nlp.amount_of_sign(train_test_text,'*')\n",
    "inspect=pd.DataFrame(X['amount_stars']).iloc[:10000].join(y_toxic).join(y_obscene)\n",
    "sns.barplot(x=\"toxic\", y=\"amount_stars\", data=inspect, estimator=mean).set_title('Comment amount of * by toxicity')"
   ]
  },
  {
   "cell_type": "code",
   "execution_count": 23,
   "metadata": {},
   "outputs": [
    {
     "data": {
      "text/plain": [
       "Text(0.5, 1.0, 'Comment amount of * by obscenity')"
      ]
     },
     "execution_count": 23,
     "metadata": {},
     "output_type": "execute_result"
    },
    {
     "data": {
      "image/png": "[encoded data removed]",
      "text/plain": [
       "<Figure size 432x288 with 1 Axes>"
      ]
     },
     "metadata": {
      "needs_background": "light"
     },
     "output_type": "display_data"
    }
   ],
   "source": [
    "sns.barplot(x=\"obscene\", y=\"amount_stars\", data=inspect, estimator=mean).set_title('Comment amount of * by obscenity')"
   ]
  },
  {
   "cell_type": "markdown",
   "metadata": {},
   "source": [
    "## Comment maximal sequence of *\n",
    "\n",
    "For both toxic and obscene comments, the average maximal sequence of * is higher."
   ]
  },
  {
   "cell_type": "code",
   "execution_count": 24,
   "metadata": {},
   "outputs": [
    {
     "data": {
      "text/plain": [
       "Text(0.5, 1.0, 'Comment average maximal sequence of *')"
      ]
     },
     "execution_count": 24,
     "metadata": {},
     "output_type": "execute_result"
    },
    {
     "data": {
      "image/png": "[encoded data removed]",
      "text/plain": [
       "<Figure size 432x288 with 1 Axes>"
      ]
     },
     "metadata": {
      "needs_background": "light"
     },
     "output_type": "display_data"
    }
   ],
   "source": [
    "X['max_seq_stars']=nlp.max_sequence(train_test_text,'*')\n",
    "inspect=pd.DataFrame(X['max_seq_stars']).iloc[:10000].join(y_toxic).join(y_obscene)\n",
    "sns.barplot(x=\"toxic\", y=\"max_seq_stars\", data=inspect, estimator=mean).set_title('Comment average maximal sequence of *')"
   ]
  },
  {
   "cell_type": "code",
   "execution_count": 25,
   "metadata": {},
   "outputs": [
    {
     "data": {
      "text/plain": [
       "Text(0.5, 1.0, 'Comment average maximal sequence of *')"
      ]
     },
     "execution_count": 25,
     "metadata": {},
     "output_type": "execute_result"
    },
    {
     "data": {
      "image/png": "[encoded data removed]",
      "text/plain": [
       "<Figure size 432x288 with 1 Axes>"
      ]
     },
     "metadata": {
      "needs_background": "light"
     },
     "output_type": "display_data"
    }
   ],
   "source": [
    "sns.barplot(x=\"obscene\", y=\"max_seq_stars\", data=inspect, estimator=mean).set_title('Comment average maximal sequence of *')"
   ]
  },
  {
   "cell_type": "markdown",
   "metadata": {},
   "source": [
    "## Comment amount of dashes\n",
    "Toxic and Obscene comments have less dashes."
   ]
  },
  {
   "cell_type": "code",
   "execution_count": 26,
   "metadata": {},
   "outputs": [
    {
     "data": {
      "text/plain": [
       "Text(0.5, 1.0, 'Comment amount of dashes by toxicity')"
      ]
     },
     "execution_count": 26,
     "metadata": {},
     "output_type": "execute_result"
    },
    {
     "data": {
      "image/png": "[encoded data removed]",
      "text/plain": [
       "<Figure size 432x288 with 1 Axes>"
      ]
     },
     "metadata": {
      "needs_background": "light"
     },
     "output_type": "display_data"
    }
   ],
   "source": [
    "X['amount_dashes']=nlp.amount_of_sign(train_test_text,'-')\n",
    "inspect=pd.DataFrame(X['amount_dashes']).iloc[:10000].join(y_toxic).join(y_obscene)\n",
    "sns.barplot(x=\"toxic\", y=\"amount_dashes\", data=inspect, estimator=mean).set_title('Comment amount of dashes by toxicity')"
   ]
  },
  {
   "cell_type": "code",
   "execution_count": 27,
   "metadata": {},
   "outputs": [
    {
     "data": {
      "text/plain": [
       "Text(0.5, 1.0, 'Comment amount of dashes by obscenity')"
      ]
     },
     "execution_count": 27,
     "metadata": {},
     "output_type": "execute_result"
    },
    {
     "data": {
      "image/png": "[encoded data removed]",
      "text/plain": [
       "<Figure size 432x288 with 1 Axes>"
      ]
     },
     "metadata": {
      "needs_background": "light"
     },
     "output_type": "display_data"
    }
   ],
   "source": [
    "sns.barplot(x=\"obscene\", y=\"amount_dashes\", data=inspect, estimator=mean).set_title('Comment amount of dashes by obscenity')"
   ]
  },
  {
   "cell_type": "markdown",
   "metadata": {},
   "source": [
    "## Comment maximal sequence of dashes\n",
    "Toxic and obscene comments have shorter maximal sequence of dashes on average."
   ]
  },
  {
   "cell_type": "code",
   "execution_count": 28,
   "metadata": {},
   "outputs": [
    {
     "data": {
      "text/plain": [
       "Text(0.5, 1.0, 'Comment average maximal sequence of dashes by toxicity')"
      ]
     },
     "execution_count": 28,
     "metadata": {},
     "output_type": "execute_result"
    },
    {
     "data": {
      "image/png": "[encoded data removed]",
      "text/plain": [
       "<Figure size 432x288 with 1 Axes>"
      ]
     },
     "metadata": {
      "needs_background": "light"
     },
     "output_type": "display_data"
    }
   ],
   "source": [
    "X['max_seq_dashes']=nlp.max_sequence(train_test_text,'-')\n",
    "inspect=pd.DataFrame(X['max_seq_dashes']).iloc[:10000].join(y_toxic).join(y_obscene)\n",
    "sns.barplot(x=\"toxic\", y=\"max_seq_dashes\", data=inspect, estimator=mean).set_title('Comment average maximal sequence of dashes by toxicity')"
   ]
  },
  {
   "cell_type": "code",
   "execution_count": 29,
   "metadata": {},
   "outputs": [
    {
     "data": {
      "text/plain": [
       "Text(0.5, 1.0, 'Comment average maximal sequence of dashes by toxicity')"
      ]
     },
     "execution_count": 29,
     "metadata": {},
     "output_type": "execute_result"
    },
    {
     "data": {
      "image/png": "[encoded data removed]",
      "text/plain": [
       "<Figure size 432x288 with 1 Axes>"
      ]
     },
     "metadata": {
      "needs_background": "light"
     },
     "output_type": "display_data"
    }
   ],
   "source": [
    "sns.barplot(x=\"obscene\", y=\"max_seq_dashes\", data=inspect, estimator=mean).set_title('Comment average maximal sequence of dashes by toxicity')"
   ]
  },
  {
   "cell_type": "markdown",
   "metadata": {},
   "source": [
    "## Comment amount of equal sign\n",
    "Toxic and obscene comments have more equal signs on average"
   ]
  },
  {
   "cell_type": "code",
   "execution_count": 30,
   "metadata": {},
   "outputs": [
    {
     "data": {
      "text/plain": [
       "Text(0.5, 1.0, 'Comment amount of equal sign by toxicity')"
      ]
     },
     "execution_count": 30,
     "metadata": {},
     "output_type": "execute_result"
    },
    {
     "data": {
      "image/png": "[encoded data removed]",
      "text/plain": [
       "<Figure size 432x288 with 1 Axes>"
      ]
     },
     "metadata": {
      "needs_background": "light"
     },
     "output_type": "display_data"
    }
   ],
   "source": [
    "X['amount_equal_signs']=nlp.amount_of_sign(train_test_text,'=')\n",
    "inspect=pd.DataFrame(X['amount_equal_signs']).iloc[:10000].join(y_toxic).join(y_obscene)\n",
    "sns.barplot(x=\"toxic\", y=\"amount_equal_signs\", data=inspect, estimator=mean).set_title('Comment amount of equal sign by toxicity')"
   ]
  },
  {
   "cell_type": "code",
   "execution_count": 31,
   "metadata": {},
   "outputs": [
    {
     "data": {
      "text/plain": [
       "Text(0.5, 1.0, 'Comment amount of equal sign by toxicity')"
      ]
     },
     "execution_count": 31,
     "metadata": {},
     "output_type": "execute_result"
    },
    {
     "data": {
      "image/png": "[encoded data removed]",
      "text/plain": [
       "<Figure size 432x288 with 1 Axes>"
      ]
     },
     "metadata": {
      "needs_background": "light"
     },
     "output_type": "display_data"
    }
   ],
   "source": [
    "sns.barplot(x=\"obscene\", y=\"amount_equal_signs\", data=inspect, estimator=mean).set_title('Comment amount of equal sign by toxicity')"
   ]
  },
  {
   "cell_type": "markdown",
   "metadata": {},
   "source": [
    "After I finished inspecting and counting all punctuation in the comments I am now removing it in order to proceed with the rest of the analysis."
   ]
  },
  {
   "cell_type": "code",
   "execution_count": 32,
   "metadata": {},
   "outputs": [],
   "source": [
    "train_test_text=nlp.remove_punctuation(train_test_text)"
   ]
  },
  {
   "cell_type": "markdown",
   "metadata": {},
   "source": [
    "In this function I am performing a few more clean up procedures on the comments' text:\n",
    "1. Turn all text to lower case. This is necessary for avoiding duplications in word processing.\n",
    "2. Split all sentences to words for the rest of the analysis.\n",
    "3. Remove ip addresses - Wikipedia comments tend to have ip addresses as words, I remove them using ReGex.\n",
    "4. Remove comments with less than two words - these carry almost no information hence I will discard them."
   ]
  },
  {
   "cell_type": "code",
   "execution_count": 33,
   "metadata": {},
   "outputs": [],
   "source": [
    "train_test_text=nlp.clean_text_for_topic_modelling(train_test_text)"
   ]
  },
  {
   "cell_type": "markdown",
   "metadata": {},
   "source": [
    "I remove the stopwords from the corpus since they contain no valuable information."
   ]
  },
  {
   "cell_type": "code",
   "execution_count": 34,
   "metadata": {},
   "outputs": [],
   "source": [
    "train_test_text=nlp.remove_stopwords_from_corpus(train_test_text)"
   ]
  },
  {
   "cell_type": "markdown",
   "metadata": {},
   "source": [
    "Here I will be using one of two methods - either Lemmatization or Stemming. This is done for reducing words to their stem or lemmas in order to decrease the feature space and sparsity. Lemmatization is better but more computationally and time expensive therefore I will only use it in the final model."
   ]
  },
  {
   "cell_type": "code",
   "execution_count": 35,
   "metadata": {},
   "outputs": [],
   "source": [
    "# train_test_text=nlp.lemmatize_corpus(train_test_text)\n",
    "train_test_text=nlp.stemm_corpus(train_test_text,stemmer='snowball')"
   ]
  },
  {
   "cell_type": "markdown",
   "metadata": {},
   "source": [
    "I add bigrams of each comment. This technique helps add context to some of the words."
   ]
  },
  {
   "cell_type": "code",
   "execution_count": 36,
   "metadata": {},
   "outputs": [],
   "source": [
    "train_test_text=nlp.create_ngrams(train_test_text,num_grams=2)"
   ]
  },
  {
   "cell_type": "markdown",
   "metadata": {},
   "source": [
    "I am using a list of profanity words I have found on https://github.com/RobertJGabriel/Google-profanity-words/blob/master/list.txt to identify swear words in each comment. I create two different features - the 'bin' one is binary and the 'agg' one is aggregating the amount of swear words"
   ]
  },
  {
   "cell_type": "code",
   "execution_count": 37,
   "metadata": {},
   "outputs": [],
   "source": [
    "bad_words=pd.read_csv('bad_words.csv',names=['bad_words'])\n",
    "bad_words=nlp.stemm_corpus(bad_words,stemmer='snowball')\n",
    "# bad_words=nlp.lemmatize_corpus(bad_words)\n",
    "bad_words=list(bad_words['bad_words'])\n",
    "X['bad_words_bin']=nlp.bad_comments_column_bin(train_test_text,bad_words)\n",
    "X['bad_words_agg']=nlp.bad_comments_column_agg(train_test_text,bad_words)"
   ]
  },
  {
   "cell_type": "markdown",
   "metadata": {},
   "source": [
    "## Ratio of comments that inculde profanity\n",
    "It is clear to see that both toxic and obscene comments have a higher ratio of profanity"
   ]
  },
  {
   "cell_type": "code",
   "execution_count": 38,
   "metadata": {},
   "outputs": [
    {
     "data": {
      "text/plain": [
       "Text(0.5, 1.0, 'Comment ratio of containing profanity by toxicity')"
      ]
     },
     "execution_count": 38,
     "metadata": {},
     "output_type": "execute_result"
    },
    {
     "data": {
      "image/png": "[encoded data removed]",
      "text/plain": [
       "<Figure size 432x288 with 1 Axes>"
      ]
     },
     "metadata": {
      "needs_background": "light"
     },
     "output_type": "display_data"
    }
   ],
   "source": [
    "inspect=pd.DataFrame(X['bad_words_bin']).iloc[:10000].join(y_toxic).join(y_obscene)\n",
    "sns.barplot(x=\"toxic\", y=\"bad_words_bin\", data=inspect, estimator=mean).set_title('Comment ratio of containing profanity by toxicity')"
   ]
  },
  {
   "cell_type": "code",
   "execution_count": 39,
   "metadata": {},
   "outputs": [
    {
     "data": {
      "text/plain": [
       "Text(0.5, 1.0, 'Comment ratio of containing profanity by obscenity')"
      ]
     },
     "execution_count": 39,
     "metadata": {},
     "output_type": "execute_result"
    },
    {
     "data": {
      "image/png": "[encoded data removed]",
      "text/plain": [
       "<Figure size 432x288 with 1 Axes>"
      ]
     },
     "metadata": {
      "needs_background": "light"
     },
     "output_type": "display_data"
    }
   ],
   "source": [
    "sns.barplot(x=\"obscene\", y=\"bad_words_bin\", data=inspect, estimator=mean).set_title('Comment ratio of containing profanity by obscenity')"
   ]
  },
  {
   "cell_type": "markdown",
   "metadata": {},
   "source": [
    "## Amount of profanity\n",
    "In this case we get the same results - toxic and obscene results have a higher amount of profanity"
   ]
  },
  {
   "cell_type": "code",
   "execution_count": 40,
   "metadata": {},
   "outputs": [
    {
     "data": {
      "text/plain": [
       "Text(0.5, 1.0, 'Comment amount of profanity by toxicty')"
      ]
     },
     "execution_count": 40,
     "metadata": {},
     "output_type": "execute_result"
    },
    {
     "data": {
      "image/png": "[encoded data removed]",
      "text/plain": [
       "<Figure size 432x288 with 1 Axes>"
      ]
     },
     "metadata": {
      "needs_background": "light"
     },
     "output_type": "display_data"
    }
   ],
   "source": [
    "inspect=pd.DataFrame(X['bad_words_agg']).iloc[:10000].join(y_toxic).join(y_obscene)\n",
    "sns.barplot(x=\"toxic\", y=\"bad_words_agg\", data=inspect, estimator=mean).set_title('Comment amount of profanity by toxicty')"
   ]
  },
  {
   "cell_type": "code",
   "execution_count": 41,
   "metadata": {},
   "outputs": [
    {
     "data": {
      "text/plain": [
       "Text(0.5, 1.0, 'Comment amount of profanity by obscenity')"
      ]
     },
     "execution_count": 41,
     "metadata": {},
     "output_type": "execute_result"
    },
    {
     "data": {
      "image/png": "[encoded data removed]",
      "text/plain": [
       "<Figure size 432x288 with 1 Axes>"
      ]
     },
     "metadata": {
      "needs_background": "light"
     },
     "output_type": "display_data"
    }
   ],
   "source": [
    "sns.barplot(x=\"obscene\", y=\"bad_words_agg\", data=inspect, estimator=mean).set_title('Comment amount of profanity by obscenity')"
   ]
  },
  {
   "cell_type": "markdown",
   "metadata": {},
   "source": [
    "## Amount of positive words\n",
    "I have used the list from https://gist.githubusercontent.com/mkulakowski2/4289437/raw/1bb4d7f9ee82150f339f09b5b1a0e6823d633958/positive-words.txt.\n",
    "We can see that toxic and obscene comments have less positive words"
   ]
  },
  {
   "cell_type": "code",
   "execution_count": 42,
   "metadata": {},
   "outputs": [],
   "source": [
    "positive_words=pd.read_csv('positive_words.csv',names=['positive_words'])\n",
    "positive_words=nlp.stemm_corpus(positive_words,stemmer='snowball')\n",
    "positive_words=list(positive_words['positive_words'])\n",
    "X['positive_words_agg']=nlp.bad_comments_column_agg(train_test_text,positive_words)"
   ]
  },
  {
   "cell_type": "code",
   "execution_count": 43,
   "metadata": {},
   "outputs": [
    {
     "data": {
      "text/plain": [
       "Text(0.5, 1.0, 'Comment amount of positive words by toxicty')"
      ]
     },
     "execution_count": 43,
     "metadata": {},
     "output_type": "execute_result"
    },
    {
     "data": {
      "image/png": "[encoded data removed]",
      "text/plain": [
       "<Figure size 432x288 with 1 Axes>"
      ]
     },
     "metadata": {
      "needs_background": "light"
     },
     "output_type": "display_data"
    }
   ],
   "source": [
    "inspect=pd.DataFrame(X['positive_words_agg']).iloc[:10000].join(y_toxic).join(y_obscene)\n",
    "sns.barplot(x=\"toxic\", y=\"positive_words_agg\", data=inspect, estimator=mean).set_title('Comment amount of positive words by toxicty')"
   ]
  },
  {
   "cell_type": "code",
   "execution_count": 44,
   "metadata": {},
   "outputs": [
    {
     "data": {
      "text/plain": [
       "Text(0.5, 1.0, 'Comment amount of positive words by obscenity')"
      ]
     },
     "execution_count": 44,
     "metadata": {},
     "output_type": "execute_result"
    },
    {
     "data": {
      "image/png": "[encoded data removed]",
      "text/plain": [
       "<Figure size 432x288 with 1 Axes>"
      ]
     },
     "metadata": {
      "needs_background": "light"
     },
     "output_type": "display_data"
    }
   ],
   "source": [
    "sns.barplot(x=\"obscene\", y=\"positive_words_agg\", data=inspect, estimator=mean).set_title('Comment amount of positive words by obscenity')"
   ]
  },
  {
   "cell_type": "markdown",
   "metadata": {},
   "source": [
    "## Negative words\n",
    "I have used the negative words list from https://gist.githubusercontent.com/mkulakowski2/4289437/raw/1bb4d7f9ee82150f339f09b5b1a0e6823d633958/negative-words.txt\n",
    "Toxic and obscene comments have more negative words."
   ]
  },
  {
   "cell_type": "code",
   "execution_count": 45,
   "metadata": {},
   "outputs": [],
   "source": [
    "negative_words=pd.read_csv('negative_words.csv',names=['negative_words'])\n",
    "negative_words=nlp.stemm_corpus(negative_words,stemmer='snowball')\n",
    "negative_words=list(negative_words['negative_words'])\n",
    "X['negative_words_agg']=nlp.bad_comments_column_agg(train_test_text,negative_words)"
   ]
  },
  {
   "cell_type": "code",
   "execution_count": 46,
   "metadata": {},
   "outputs": [
    {
     "data": {
      "text/plain": [
       "Text(0.5, 1.0, 'Comment amount of negative words by toxicty')"
      ]
     },
     "execution_count": 46,
     "metadata": {},
     "output_type": "execute_result"
    },
    {
     "data": {
      "image/png": "[encoded data removed]",
      "text/plain": [
       "<Figure size 432x288 with 1 Axes>"
      ]
     },
     "metadata": {
      "needs_background": "light"
     },
     "output_type": "display_data"
    }
   ],
   "source": [
    "inspect=pd.DataFrame(X['negative_words_agg']).iloc[:10000].join(y_toxic).join(y_obscene)\n",
    "sns.barplot(x=\"toxic\", y=\"negative_words_agg\", data=inspect, estimator=mean).set_title('Comment amount of negative words by toxicty')"
   ]
  },
  {
   "cell_type": "code",
   "execution_count": 47,
   "metadata": {},
   "outputs": [
    {
     "data": {
      "text/plain": [
       "Text(0.5, 1.0, 'Comment amount of negative words by obscenity')"
      ]
     },
     "execution_count": 47,
     "metadata": {},
     "output_type": "execute_result"
    },
    {
     "data": {
      "image/png": "[encoded data removed]",
      "text/plain": [
       "<Figure size 432x288 with 1 Axes>"
      ]
     },
     "metadata": {
      "needs_background": "light"
     },
     "output_type": "display_data"
    }
   ],
   "source": [
    "inspect=pd.DataFrame(X['negative_words_agg']).iloc[:10000].join(y_toxic).join(y_obscene)\n",
    "sns.barplot(x=\"obscene\", y=\"negative_words_agg\", data=inspect, estimator=mean).set_title('Comment amount of negative words by obscenity')"
   ]
  },
  {
   "cell_type": "markdown",
   "metadata": {},
   "source": [
    "## Gensim dictionary and filtering extremes\n",
    "For the algorithms I am planning to use next, I will need to create a Gensim dictionary. This is a dictionary of all the words and bigrams I have in the corpus. I filter extreme word cases - if a word/bigram appears in less than 11 comments, this is not enough observations for the algorithm to make conclusions therefore I remove them. I also remove words that appear in more than 80% of the corpus since these also don't contain any unique information that will help classifying."
   ]
  },
  {
   "cell_type": "code",
   "execution_count": 48,
   "metadata": {},
   "outputs": [],
   "source": [
    "dic=nlp.gensim_dic(train_test_text,no_below=11,no_above=0.8)"
   ]
  },
  {
   "cell_type": "markdown",
   "metadata": {},
   "source": [
    "## Tf-Idf algorithm\n",
    "I use the Gensim dictionary to create a Tf-Idf table. This is short for term frequency–inverse document frequency. It is a table that holds a value for each word in each document. I chose this algorithm over other alternatives because it is very useful in classification problems. It considers the weight of the word realtive to both the specific document and to all of the corpus."
   ]
  },
  {
   "cell_type": "code",
   "execution_count": 49,
   "metadata": {},
   "outputs": [],
   "source": [
    "bow_corp=nlp.bow_corpus(dic,train_test_text)\n",
    "tfidf=nlp.vec_to_tfidf(bow_corp)"
   ]
  },
  {
   "cell_type": "markdown",
   "metadata": {},
   "source": [
    "##  Latent Dirichlet allocation\n",
    "I use a topic modelling algorithm for assigning one of 20 topics to each comment. I suspect that some topics are more sensitive and therefore will have more toxic and obscene comments."
   ]
  },
  {
   "cell_type": "code",
   "execution_count": 50,
   "metadata": {},
   "outputs": [],
   "source": [
    "lda_model = nlp.lda_model(tfidf,dic)\n",
    "X['lda_topic'] = nlp.assign_lda_topic(lda_model,bow_corp)"
   ]
  },
  {
   "cell_type": "markdown",
   "metadata": {},
   "source": [
    "I turn the Tf-Idf object to matrix that can be appended to the features' matrix X."
   ]
  },
  {
   "cell_type": "code",
   "execution_count": 51,
   "metadata": {},
   "outputs": [],
   "source": [
    "tfidf_df=nlp.tf_idf_tomatrix(dic,tfidf)"
   ]
  },
  {
   "cell_type": "markdown",
   "metadata": {},
   "source": [
    "## Scaling the data\n",
    "Some of the algorithms I will be using require the feature space X to be standardized, so I use SKLearn's standard scaler for scaling X. I do this exculding the tfidf matrix which already has a different kind of standartization."
   ]
  },
  {
   "cell_type": "code",
   "execution_count": 52,
   "metadata": {},
   "outputs": [],
   "source": [
    "scaler = StandardScaler()\n",
    "X=pd.DataFrame(scaler.fit_transform(X),columns=X.columns)"
   ]
  },
  {
   "cell_type": "markdown",
   "metadata": {},
   "source": [
    "I join the tfidf table with the rest of the features and seperate it to train and test matrices."
   ]
  },
  {
   "cell_type": "code",
   "execution_count": 53,
   "metadata": {},
   "outputs": [],
   "source": [
    "X=X.join(tfidf_df)\n",
    "X_train=X.iloc[:10000].copy()\n",
    "X_test=X.iloc[10000:].copy()"
   ]
  },
  {
   "cell_type": "markdown",
   "metadata": {},
   "source": [
    "I will now be trying out a few different Machine Learning algorithms for predicting the test set. I will be using cross validated F1 score estimates which is the metric used for evaluating performance in this specific competition.\n",
    "\n",
    "## Logistic Regression\n",
    "This is a classification algorithm which I found very useful because it allows to add a penalty to the function. I used the l1 penalty parameter(Lasso) because it allows for some coefficients of the model to be totally zeroed out. This is particularly useful for this kind of feature space because of it's huge size of predictors. Because we want to generalize our model, which is very complicated due to the number of features we would like to get rid of some of the features that are less useful or correlated with other features. This helps to lower the model's variance and improves the test score performance. I will use the CV results to pick the C tuning parameter which is tuning the regularization strength."
   ]
  },
  {
   "cell_type": "code",
   "execution_count": 54,
   "metadata": {},
   "outputs": [
    {
     "name": "stderr",
     "output_type": "stream",
     "text": [
      " 20%|████████████████▊                                                                   | 1/5 [00:12<00:48, 12.01s/it]C:\\Users\\natan\\Anaconda3\\lib\\site-packages\\sklearn\\svm\\_base.py:947: ConvergenceWarning: Liblinear failed to converge, increase the number of iterations.\n",
      "  \"the number of iterations.\", ConvergenceWarning)\n",
      "C:\\Users\\natan\\Anaconda3\\lib\\site-packages\\sklearn\\svm\\_base.py:947: ConvergenceWarning: Liblinear failed to converge, increase the number of iterations.\n",
      "  \"the number of iterations.\", ConvergenceWarning)\n",
      "C:\\Users\\natan\\Anaconda3\\lib\\site-packages\\sklearn\\svm\\_base.py:947: ConvergenceWarning: Liblinear failed to converge, increase the number of iterations.\n",
      "  \"the number of iterations.\", ConvergenceWarning)\n",
      " 40%|█████████████████████████████████▌                                                  | 2/5 [03:25<03:19, 66.40s/it]C:\\Users\\natan\\Anaconda3\\lib\\site-packages\\sklearn\\svm\\_base.py:947: ConvergenceWarning: Liblinear failed to converge, increase the number of iterations.\n",
      "  \"the number of iterations.\", ConvergenceWarning)\n",
      "C:\\Users\\natan\\Anaconda3\\lib\\site-packages\\sklearn\\svm\\_base.py:947: ConvergenceWarning: Liblinear failed to converge, increase the number of iterations.\n",
      "  \"the number of iterations.\", ConvergenceWarning)\n",
      "C:\\Users\\natan\\Anaconda3\\lib\\site-packages\\sklearn\\svm\\_base.py:947: ConvergenceWarning: Liblinear failed to converge, increase the number of iterations.\n",
      "  \"the number of iterations.\", ConvergenceWarning)\n",
      "C:\\Users\\natan\\Anaconda3\\lib\\site-packages\\sklearn\\svm\\_base.py:947: ConvergenceWarning: Liblinear failed to converge, increase the number of iterations.\n",
      "  \"the number of iterations.\", ConvergenceWarning)\n",
      " 60%|█████████████████████████████████████████████████▊                                 | 3/5 [08:02<04:19, 129.54s/it]C:\\Users\\natan\\Anaconda3\\lib\\site-packages\\sklearn\\svm\\_base.py:947: ConvergenceWarning: Liblinear failed to converge, increase the number of iterations.\n",
      "  \"the number of iterations.\", ConvergenceWarning)\n",
      "C:\\Users\\natan\\Anaconda3\\lib\\site-packages\\sklearn\\svm\\_base.py:947: ConvergenceWarning: Liblinear failed to converge, increase the number of iterations.\n",
      "  \"the number of iterations.\", ConvergenceWarning)\n",
      "C:\\Users\\natan\\Anaconda3\\lib\\site-packages\\sklearn\\svm\\_base.py:947: ConvergenceWarning: Liblinear failed to converge, increase the number of iterations.\n",
      "  \"the number of iterations.\", ConvergenceWarning)\n",
      "C:\\Users\\natan\\Anaconda3\\lib\\site-packages\\sklearn\\svm\\_base.py:947: ConvergenceWarning: Liblinear failed to converge, increase the number of iterations.\n",
      "  \"the number of iterations.\", ConvergenceWarning)\n",
      "C:\\Users\\natan\\Anaconda3\\lib\\site-packages\\sklearn\\svm\\_base.py:947: ConvergenceWarning: Liblinear failed to converge, increase the number of iterations.\n",
      "  \"the number of iterations.\", ConvergenceWarning)\n",
      " 80%|██████████████████████████████████████████████████████████████████▍                | 4/5 [14:39<03:29, 209.79s/it]C:\\Users\\natan\\Anaconda3\\lib\\site-packages\\sklearn\\svm\\_base.py:947: ConvergenceWarning: Liblinear failed to converge, increase the number of iterations.\n",
      "  \"the number of iterations.\", ConvergenceWarning)\n",
      "C:\\Users\\natan\\Anaconda3\\lib\\site-packages\\sklearn\\svm\\_base.py:947: ConvergenceWarning: Liblinear failed to converge, increase the number of iterations.\n",
      "  \"the number of iterations.\", ConvergenceWarning)\n",
      "C:\\Users\\natan\\Anaconda3\\lib\\site-packages\\sklearn\\svm\\_base.py:947: ConvergenceWarning: Liblinear failed to converge, increase the number of iterations.\n",
      "  \"the number of iterations.\", ConvergenceWarning)\n",
      "C:\\Users\\natan\\Anaconda3\\lib\\site-packages\\sklearn\\svm\\_base.py:947: ConvergenceWarning: Liblinear failed to converge, increase the number of iterations.\n",
      "  \"the number of iterations.\", ConvergenceWarning)\n",
      "C:\\Users\\natan\\Anaconda3\\lib\\site-packages\\sklearn\\svm\\_base.py:947: ConvergenceWarning: Liblinear failed to converge, increase the number of iterations.\n",
      "  \"the number of iterations.\", ConvergenceWarning)\n",
      "100%|███████████████████████████████████████████████████████████████████████████████████| 5/5 [21:24<00:00, 268.43s/it]\n"
     ]
    },
    {
     "data": {
      "text/html": [
       "<div>\n",
       "<style scoped>\n",
       "    .dataframe tbody tr th:only-of-type {\n",
       "        vertical-align: middle;\n",
       "    }\n",
       "\n",
       "    .dataframe tbody tr th {\n",
       "        vertical-align: top;\n",
       "    }\n",
       "\n",
       "    .dataframe thead th {\n",
       "        text-align: right;\n",
       "    }\n",
       "</style>\n",
       "<table border=\"1\" class=\"dataframe\">\n",
       "  <thead>\n",
       "    <tr style=\"text-align: right;\">\n",
       "      <th></th>\n",
       "      <th>c_value</th>\n",
       "      <th>cv_f1_score</th>\n",
       "    </tr>\n",
       "  </thead>\n",
       "  <tbody>\n",
       "    <tr>\n",
       "      <th>0</th>\n",
       "      <td>0.1</td>\n",
       "      <td>0.799653</td>\n",
       "    </tr>\n",
       "    <tr>\n",
       "      <th>1</th>\n",
       "      <td>2.0</td>\n",
       "      <td>0.890622</td>\n",
       "    </tr>\n",
       "    <tr>\n",
       "      <th>2</th>\n",
       "      <td>3.0</td>\n",
       "      <td>0.890196</td>\n",
       "    </tr>\n",
       "    <tr>\n",
       "      <th>3</th>\n",
       "      <td>4.0</td>\n",
       "      <td>0.890552</td>\n",
       "    </tr>\n",
       "    <tr>\n",
       "      <th>4</th>\n",
       "      <td>5.0</td>\n",
       "      <td>0.888723</td>\n",
       "    </tr>\n",
       "  </tbody>\n",
       "</table>\n",
       "</div>"
      ],
      "text/plain": [
       "   c_value  cv_f1_score\n",
       "0      0.1     0.799653\n",
       "1      2.0     0.890622\n",
       "2      3.0     0.890196\n",
       "3      4.0     0.890552\n",
       "4      5.0     0.888723"
      ]
     },
     "execution_count": 54,
     "metadata": {},
     "output_type": "execute_result"
    }
   ],
   "source": [
    "# Toxicity\n",
    "CS=[0.1,2,3,4,5]\n",
    "results=[]\n",
    "for c in tqdm(CS):\n",
    "    clf = LogisticRegression(penalty='l1',solver='liblinear',C=c)\n",
    "    results.append((c,np.mean(cross_val_score(clf, X_train, y_toxic, cv=5, scoring='f1'))))\n",
    "results_df=pd.DataFrame(results,columns=['c_value','cv_f1_score'])\n",
    "results_df"
   ]
  },
  {
   "cell_type": "code",
   "execution_count": 59,
   "metadata": {},
   "outputs": [
    {
     "name": "stderr",
     "output_type": "stream",
     "text": [
      "\n",
      "\n",
      "  0%|                                                                                            | 0/5 [00:00<?, ?it/s]\n",
      "\n",
      " 20%|████████████████▊                                                                   | 1/5 [00:14<00:59, 14.79s/it]\n",
      "\n",
      " 40%|█████████████████████████████████▌                                                  | 2/5 [00:29<00:44, 14.68s/it]\n",
      "\n",
      " 60%|██████████████████████████████████████████████████▍                                 | 3/5 [00:43<00:29, 14.55s/it]\n",
      "\n",
      " 80%|███████████████████████████████████████████████████████████████████▏                | 4/5 [00:57<00:14, 14.53s/it]\n",
      "\n",
      "100%|████████████████████████████████████████████████████████████████████████████████████| 5/5 [01:12<00:00, 14.57s/it]\n",
      "\n"
     ]
    },
    {
     "data": {
      "text/html": [
       "<div>\n",
       "<style scoped>\n",
       "    .dataframe tbody tr th:only-of-type {\n",
       "        vertical-align: middle;\n",
       "    }\n",
       "\n",
       "    .dataframe tbody tr th {\n",
       "        vertical-align: top;\n",
       "    }\n",
       "\n",
       "    .dataframe thead th {\n",
       "        text-align: right;\n",
       "    }\n",
       "</style>\n",
       "<table border=\"1\" class=\"dataframe\">\n",
       "  <thead>\n",
       "    <tr style=\"text-align: right;\">\n",
       "      <th></th>\n",
       "      <th>c_value</th>\n",
       "      <th>cv_f1_score</th>\n",
       "    </tr>\n",
       "  </thead>\n",
       "  <tbody>\n",
       "    <tr>\n",
       "      <th>0</th>\n",
       "      <td>0.5</td>\n",
       "      <td>0.815253</td>\n",
       "    </tr>\n",
       "    <tr>\n",
       "      <th>1</th>\n",
       "      <td>2.0</td>\n",
       "      <td>0.816530</td>\n",
       "    </tr>\n",
       "    <tr>\n",
       "      <th>2</th>\n",
       "      <td>3.0</td>\n",
       "      <td>0.809713</td>\n",
       "    </tr>\n",
       "    <tr>\n",
       "      <th>3</th>\n",
       "      <td>3.5</td>\n",
       "      <td>0.806645</td>\n",
       "    </tr>\n",
       "    <tr>\n",
       "      <th>4</th>\n",
       "      <td>4.0</td>\n",
       "      <td>0.803279</td>\n",
       "    </tr>\n",
       "  </tbody>\n",
       "</table>\n",
       "</div>"
      ],
      "text/plain": [
       "   c_value  cv_f1_score\n",
       "0      0.5     0.815253\n",
       "1      2.0     0.816530\n",
       "2      3.0     0.809713\n",
       "3      3.5     0.806645\n",
       "4      4.0     0.803279"
      ]
     },
     "execution_count": 59,
     "metadata": {},
     "output_type": "execute_result"
    }
   ],
   "source": [
    "# Obscenity\n",
    "CS=[0.5,2,3,3.5,4]\n",
    "results=[]\n",
    "for c in tqdm(CS):\n",
    "    clf = LogisticRegression(penalty='l1',solver='liblinear',C=c)\n",
    "    results.append((c,np.mean(cross_val_score(clf, X_train, y_obscene, cv=5, scoring='f1'))))\n",
    "results_df=pd.DataFrame(results,columns=['c_value','cv_f1_score'])\n",
    "results_df"
   ]
  },
  {
   "cell_type": "markdown",
   "metadata": {},
   "source": [
    "## Random Forest Classifier\n",
    "This classifer performs very well due to its ability to lower variance by creating many different uncorrelated decision trees. I will produce random values for some of the tuning parameters for getting the best CV F1 score. I chose a random grid search of the parameters because searching over all possible values can be very expensive computationally and time consuming. I chose the max depth of the trees to be no more than 75 because I don't want the tree to be too complicated and overfit the data. I chose a 150 trees to be the maximal amount of trees possible for calculation because any more than that will be computationally very expensive. I also chose the class_weight to be balanced due to the fact that for at least one of the target variables the classes are not even in size."
   ]
  },
  {
   "cell_type": "code",
   "execution_count": 57,
   "metadata": {},
   "outputs": [
    {
     "name": "stderr",
     "output_type": "stream",
     "text": [
      "\n",
      "  0%|                                                                                            | 0/5 [00:00<?, ?it/s]\n",
      " 20%|████████████████▊                                                                   | 1/5 [00:16<01:04, 16.25s/it]\n",
      " 40%|█████████████████████████████████▌                                                  | 2/5 [01:45<01:54, 38.09s/it]\n",
      " 60%|█████████████████████████████████████████████████▊                                 | 3/5 [27:06<16:05, 482.91s/it]\n",
      " 80%|██████████████████████████████████████████████████████████████████▍                | 4/5 [30:14<06:34, 394.67s/it]\n",
      "100%|████████████████████████████████████████████████████████████████████████████████| 5/5 [1:29:17<00:00, 1339.10s/it]\n"
     ]
    },
    {
     "data": {
      "text/html": [
       "<div>\n",
       "<style scoped>\n",
       "    .dataframe tbody tr th:only-of-type {\n",
       "        vertical-align: middle;\n",
       "    }\n",
       "\n",
       "    .dataframe tbody tr th {\n",
       "        vertical-align: top;\n",
       "    }\n",
       "\n",
       "    .dataframe thead th {\n",
       "        text-align: right;\n",
       "    }\n",
       "</style>\n",
       "<table border=\"1\" class=\"dataframe\">\n",
       "  <thead>\n",
       "    <tr style=\"text-align: right;\">\n",
       "      <th></th>\n",
       "      <th>cv_f1_score</th>\n",
       "      <th>max_depth</th>\n",
       "      <th>n_estimators</th>\n",
       "      <th>max_features</th>\n",
       "    </tr>\n",
       "  </thead>\n",
       "  <tbody>\n",
       "    <tr>\n",
       "      <th>1</th>\n",
       "      <td>0.859317</td>\n",
       "      <td>52.0</td>\n",
       "      <td>13.0</td>\n",
       "      <td>auto</td>\n",
       "    </tr>\n",
       "    <tr>\n",
       "      <th>2</th>\n",
       "      <td>0.871464</td>\n",
       "      <td>57.0</td>\n",
       "      <td>94.0</td>\n",
       "      <td>auto</td>\n",
       "    </tr>\n",
       "    <tr>\n",
       "      <th>3</th>\n",
       "      <td>0.867517</td>\n",
       "      <td>32.0</td>\n",
       "      <td>66.0</td>\n",
       "      <td>0.8</td>\n",
       "    </tr>\n",
       "    <tr>\n",
       "      <th>4</th>\n",
       "      <td>0.871954</td>\n",
       "      <td>64.0</td>\n",
       "      <td>143.0</td>\n",
       "      <td>auto</td>\n",
       "    </tr>\n",
       "    <tr>\n",
       "      <th>5</th>\n",
       "      <td>0.868448</td>\n",
       "      <td>33.0</td>\n",
       "      <td>119.0</td>\n",
       "      <td>0.8</td>\n",
       "    </tr>\n",
       "  </tbody>\n",
       "</table>\n",
       "</div>"
      ],
      "text/plain": [
       "   cv_f1_score  max_depth  n_estimators max_features\n",
       "1     0.859317       52.0          13.0         auto\n",
       "2     0.871464       57.0          94.0         auto\n",
       "3     0.867517       32.0          66.0          0.8\n",
       "4     0.871954       64.0         143.0         auto\n",
       "5     0.868448       33.0         119.0          0.8"
      ]
     },
     "execution_count": 57,
     "metadata": {},
     "output_type": "execute_result"
    }
   ],
   "source": [
    "#toxicity\n",
    "results=pd.DataFrame()\n",
    "max_features_options=['auto',0.25,0.5,0.8]\n",
    "for i in tqdm(range(1,6)):\n",
    "    max_depth=randint(1, 75)\n",
    "    n_estimators=randint(1, 150)\n",
    "    max_features=randint(1, 4)\n",
    "    rf = RandomForestClassifier(max_depth=max_depth, random_state=1,n_estimators=n_estimators,class_weight='balanced',\n",
    "                                max_features=max_features_options[max_features-1])\n",
    "    results.at[i,'cv_f1_score']=np.mean(cross_val_score(rf, X_train, y_toxic, cv=5, scoring='f1'))\n",
    "    results.at[i,'max_depth']=max_depth\n",
    "    results.at[i,'n_estimators']=n_estimators\n",
    "    results.at[i,'max_features']=max_features_options[max_features-1]\n",
    "results"
   ]
  },
  {
   "cell_type": "code",
   "execution_count": 60,
   "metadata": {},
   "outputs": [
    {
     "name": "stderr",
     "output_type": "stream",
     "text": [
      "\n",
      "\n",
      "  0%|                                                                                            | 0/5 [00:00<?, ?it/s]\n",
      "\n",
      " 20%|████████████████                                                                | 1/5 [20:58<1:23:55, 1258.89s/it]\n",
      "\n",
      " 40%|█████████████████████████████████▏                                                 | 2/5 [27:08<49:36, 992.20s/it]\n",
      "\n",
      " 60%|█████████████████████████████████████████████████▏                                | 3/5 [55:51<40:22, 1211.48s/it]\n",
      "\n",
      " 80%|████████████████████████████████████████████████████████████████                | 4/5 [1:07:17<17:33, 1053.60s/it]\n",
      "\n",
      "100%|████████████████████████████████████████████████████████████████████████████████| 5/5 [1:34:16<00:00, 1223.25s/it]\n",
      "\n"
     ]
    },
    {
     "data": {
      "text/html": [
       "<div>\n",
       "<style scoped>\n",
       "    .dataframe tbody tr th:only-of-type {\n",
       "        vertical-align: middle;\n",
       "    }\n",
       "\n",
       "    .dataframe tbody tr th {\n",
       "        vertical-align: top;\n",
       "    }\n",
       "\n",
       "    .dataframe thead th {\n",
       "        text-align: right;\n",
       "    }\n",
       "</style>\n",
       "<table border=\"1\" class=\"dataframe\">\n",
       "  <thead>\n",
       "    <tr style=\"text-align: right;\">\n",
       "      <th></th>\n",
       "      <th>cv_f1_score</th>\n",
       "      <th>max_depth</th>\n",
       "      <th>n_estimators</th>\n",
       "      <th>max_features</th>\n",
       "    </tr>\n",
       "  </thead>\n",
       "  <tbody>\n",
       "    <tr>\n",
       "      <th>1</th>\n",
       "      <td>0.814673</td>\n",
       "      <td>28.0</td>\n",
       "      <td>142.0</td>\n",
       "      <td>0.25</td>\n",
       "    </tr>\n",
       "    <tr>\n",
       "      <th>2</th>\n",
       "      <td>0.795929</td>\n",
       "      <td>6.0</td>\n",
       "      <td>49.0</td>\n",
       "      <td>0.80</td>\n",
       "    </tr>\n",
       "    <tr>\n",
       "      <th>3</th>\n",
       "      <td>0.811519</td>\n",
       "      <td>43.0</td>\n",
       "      <td>81.0</td>\n",
       "      <td>0.50</td>\n",
       "    </tr>\n",
       "    <tr>\n",
       "      <th>4</th>\n",
       "      <td>0.807868</td>\n",
       "      <td>41.0</td>\n",
       "      <td>46.0</td>\n",
       "      <td>0.50</td>\n",
       "    </tr>\n",
       "    <tr>\n",
       "      <th>5</th>\n",
       "      <td>0.804194</td>\n",
       "      <td>36.0</td>\n",
       "      <td>72.0</td>\n",
       "      <td>0.80</td>\n",
       "    </tr>\n",
       "  </tbody>\n",
       "</table>\n",
       "</div>"
      ],
      "text/plain": [
       "   cv_f1_score  max_depth  n_estimators  max_features\n",
       "1     0.814673       28.0         142.0          0.25\n",
       "2     0.795929        6.0          49.0          0.80\n",
       "3     0.811519       43.0          81.0          0.50\n",
       "4     0.807868       41.0          46.0          0.50\n",
       "5     0.804194       36.0          72.0          0.80"
      ]
     },
     "execution_count": 60,
     "metadata": {},
     "output_type": "execute_result"
    }
   ],
   "source": [
    "#obscenity\n",
    "results=pd.DataFrame()\n",
    "max_features_options=['auto',0.25,0.5,0.8]\n",
    "for i in tqdm(range(1,6)):\n",
    "    max_depth=randint(1, 75)\n",
    "    n_estimators=randint(1, 150)\n",
    "    max_features=randint(1, 4)\n",
    "    rf = RandomForestClassifier(max_depth=max_depth, random_state=1,n_estimators=n_estimators,class_weight='balanced',\n",
    "                                max_features=max_features_options[max_features-1])\n",
    "    results.at[i,'cv_f1_score']=np.mean(cross_val_score(rf, X_train, y_obscene, cv=5, scoring='f1'))\n",
    "    results.at[i,'max_depth']=max_depth\n",
    "    results.at[i,'n_estimators']=n_estimators\n",
    "    results.at[i,'max_features']=max_features_options[max_features-1]\n",
    "results"
   ]
  },
  {
   "cell_type": "markdown",
   "metadata": {},
   "source": [
    "## Model selection and output\n",
    "Logistic regression with l1 penalty and C=2 performed best for classifying both toxic and obscene comments. I will now use these parameters for predicting the test set."
   ]
  },
  {
   "cell_type": "code",
   "execution_count": 61,
   "metadata": {},
   "outputs": [],
   "source": [
    "clf = LogisticRegression(penalty='l1',solver='liblinear',C=2)"
   ]
  },
  {
   "cell_type": "code",
   "execution_count": 62,
   "metadata": {},
   "outputs": [
    {
     "name": "stderr",
     "output_type": "stream",
     "text": [
      "C:\\Users\\natan\\Anaconda3\\lib\\site-packages\\sklearn\\svm\\_base.py:947: ConvergenceWarning: Liblinear failed to converge, increase the number of iterations.\n",
      "  \"the number of iterations.\", ConvergenceWarning)\n"
     ]
    }
   ],
   "source": [
    "clf.fit(X_train, y_toxic)\n",
    "toxic_results=clf.predict(X_test)"
   ]
  },
  {
   "cell_type": "code",
   "execution_count": 63,
   "metadata": {},
   "outputs": [],
   "source": [
    "clf.fit(X_train, y_obscene)\n",
    "obscene_results=clf.predict(X_test)"
   ]
  },
  {
   "cell_type": "code",
   "execution_count": 64,
   "metadata": {},
   "outputs": [],
   "source": [
    "try15=test.join(pd.DataFrame(toxic_results,columns=['toxic']))\n",
    "try15=try15.join(pd.DataFrame(obscene_results,columns=['obscene']))\n",
    "try15.drop('comment_text',1,inplace=True)"
   ]
  },
  {
   "cell_type": "code",
   "execution_count": 65,
   "metadata": {},
   "outputs": [],
   "source": [
    "try15.to_csv('try15.csv',index=False)"
   ]
  }
 ],
 "metadata": {
  "kernelspec": {
   "display_name": "Python 3",
   "language": "python",
   "name": "python3"
  },
  "language_info": {
   "codemirror_mode": {
    "name": "ipython",
    "version": 3
   },
   "file_extension": ".py",
   "mimetype": "text/x-python",
   "name": "python",
   "nbconvert_exporter": "python",
   "pygments_lexer": "ipython3",
   "version": "3.7.1"
  }
 },
 "nbformat": 4,
 "nbformat_minor": 2
}
